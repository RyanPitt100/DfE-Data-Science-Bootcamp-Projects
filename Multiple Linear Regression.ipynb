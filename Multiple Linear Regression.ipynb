{
 "cells": [
  {
   "cell_type": "markdown",
   "id": "9dc0fb2a",
   "metadata": {},
   "source": [
    "Read 'hourlywage.csv'. "
   ]
  },
  {
   "cell_type": "code",
   "execution_count": 48,
   "id": "fa895dbd",
   "metadata": {},
   "outputs": [],
   "source": [
    "#Importing Libraries\n",
    "import numpy as np\n",
    "import pandas as pd\n",
    "import matplotlib.pyplot as plt\n",
    "from sklearn.linear_model import LinearRegression\n",
    "from sklearn.model_selection import train_test_split\n",
    "import seaborn as sns\n",
    "#reading dataset\n",
    "\n",
    "wage_df = pd.read_csv(\"hourlywagedata.csv\")\n"
   ]
  },
  {
   "cell_type": "markdown",
   "id": "f659ebeb",
   "metadata": {},
   "source": [
    "Now to clean the data a little and make sure we have no null values."
   ]
  },
  {
   "cell_type": "code",
   "execution_count": 49,
   "id": "a7469c52",
   "metadata": {},
   "outputs": [
    {
     "name": "stdout",
     "output_type": "stream",
     "text": [
      "<class 'pandas.core.frame.DataFrame'>\n",
      "RangeIndex: 3000 entries, 0 to 2999\n",
      "Data columns (total 4 columns):\n",
      " #   Column    Non-Null Count  Dtype \n",
      "---  ------    --------------  ----- \n",
      " 0   position  3000 non-null   int64 \n",
      " 1   agerange  3000 non-null   int64 \n",
      " 2   yrsscale  3000 non-null   int64 \n",
      " 3   hourwage  3000 non-null   object\n",
      "dtypes: int64(3), object(1)\n",
      "memory usage: 93.9+ KB\n"
     ]
    }
   ],
   "source": [
    "wage_df.info()"
   ]
  },
  {
   "cell_type": "code",
   "execution_count": 50,
   "id": "44ef4d8e",
   "metadata": {},
   "outputs": [
    {
     "data": {
      "text/html": [
       "<div>\n",
       "<style scoped>\n",
       "    .dataframe tbody tr th:only-of-type {\n",
       "        vertical-align: middle;\n",
       "    }\n",
       "\n",
       "    .dataframe tbody tr th {\n",
       "        vertical-align: top;\n",
       "    }\n",
       "\n",
       "    .dataframe thead th {\n",
       "        text-align: right;\n",
       "    }\n",
       "</style>\n",
       "<table border=\"1\" class=\"dataframe\">\n",
       "  <thead>\n",
       "    <tr style=\"text-align: right;\">\n",
       "      <th></th>\n",
       "      <th>position</th>\n",
       "      <th>agerange</th>\n",
       "      <th>yrsscale</th>\n",
       "      <th>hourwage</th>\n",
       "    </tr>\n",
       "  </thead>\n",
       "  <tbody>\n",
       "    <tr>\n",
       "      <th>0</th>\n",
       "      <td>1</td>\n",
       "      <td>1</td>\n",
       "      <td>2</td>\n",
       "      <td>13.736234054538</td>\n",
       "    </tr>\n",
       "    <tr>\n",
       "      <th>1</th>\n",
       "      <td>0</td>\n",
       "      <td>1</td>\n",
       "      <td>2</td>\n",
       "      <td>16.4407309689108</td>\n",
       "    </tr>\n",
       "    <tr>\n",
       "      <th>2</th>\n",
       "      <td>0</td>\n",
       "      <td>1</td>\n",
       "      <td>3</td>\n",
       "      <td>21.3891077239505</td>\n",
       "    </tr>\n",
       "    <tr>\n",
       "      <th>3</th>\n",
       "      <td>1</td>\n",
       "      <td>1</td>\n",
       "      <td>1</td>\n",
       "      <td>11.377187468408</td>\n",
       "    </tr>\n",
       "    <tr>\n",
       "      <th>4</th>\n",
       "      <td>0</td>\n",
       "      <td>1</td>\n",
       "      <td>3</td>\n",
       "      <td>21.5607775454338</td>\n",
       "    </tr>\n",
       "  </tbody>\n",
       "</table>\n",
       "</div>"
      ],
      "text/plain": [
       "   position  agerange  yrsscale          hourwage\n",
       "0         1         1         2   13.736234054538\n",
       "1         0         1         2  16.4407309689108\n",
       "2         0         1         3  21.3891077239505\n",
       "3         1         1         1   11.377187468408\n",
       "4         0         1         3  21.5607775454338"
      ]
     },
     "execution_count": 50,
     "metadata": {},
     "output_type": "execute_result"
    }
   ],
   "source": [
    "wage_df.head()"
   ]
  },
  {
   "cell_type": "code",
   "execution_count": 51,
   "id": "8498e5f0",
   "metadata": {},
   "outputs": [
    {
     "data": {
      "text/plain": [
       "3000"
      ]
     },
     "execution_count": 51,
     "metadata": {},
     "output_type": "execute_result"
    }
   ],
   "source": [
    "len(wage_df)"
   ]
  },
  {
   "cell_type": "code",
   "execution_count": 52,
   "id": "a34d2346",
   "metadata": {},
   "outputs": [],
   "source": [
    "wage_df['position'] = wage_df['position'].replace(' ', np.NAN)\n",
    "wage_df['agerange'] = wage_df['agerange'].replace(' ', np.NAN)\n",
    "wage_df['yrsscale'] = wage_df['yrsscale'].replace(' ', np.NAN)\n",
    "wage_df['hourwage'] = wage_df['hourwage'].replace(' ', np.NAN)"
   ]
  },
  {
   "cell_type": "code",
   "execution_count": 53,
   "id": "c2ebe25c",
   "metadata": {},
   "outputs": [
    {
     "data": {
      "text/plain": [
       "position     0\n",
       "agerange     0\n",
       "yrsscale     0\n",
       "hourwage    89\n",
       "dtype: int64"
      ]
     },
     "execution_count": 53,
     "metadata": {},
     "output_type": "execute_result"
    }
   ],
   "source": [
    "wage_df.isnull().sum()"
   ]
  },
  {
   "cell_type": "code",
   "execution_count": 54,
   "id": "f6fee1e0",
   "metadata": {},
   "outputs": [],
   "source": [
    "wage_df.dropna(inplace = True)"
   ]
  },
  {
   "cell_type": "code",
   "execution_count": 55,
   "id": "805cbe11",
   "metadata": {},
   "outputs": [
    {
     "data": {
      "text/plain": [
       "position    0\n",
       "agerange    0\n",
       "yrsscale    0\n",
       "hourwage    0\n",
       "dtype: int64"
      ]
     },
     "execution_count": 55,
     "metadata": {},
     "output_type": "execute_result"
    }
   ],
   "source": [
    "wage_df.isnull().sum()"
   ]
  },
  {
   "cell_type": "code",
   "execution_count": 56,
   "id": "65c47031",
   "metadata": {},
   "outputs": [
    {
     "data": {
      "text/plain": [
       "2911"
      ]
     },
     "execution_count": 56,
     "metadata": {},
     "output_type": "execute_result"
    }
   ],
   "source": [
    "len(wage_df)"
   ]
  },
  {
   "cell_type": "code",
   "execution_count": 57,
   "id": "3316d0ce",
   "metadata": {},
   "outputs": [],
   "source": [
    "wage_df['hourwage'] = pd.to_numeric(wage_df['hourwage'])"
   ]
  },
  {
   "cell_type": "code",
   "execution_count": 58,
   "id": "d41b6ff2",
   "metadata": {},
   "outputs": [
    {
     "data": {
      "text/plain": [
       "position      int64\n",
       "agerange      int64\n",
       "yrsscale      int64\n",
       "hourwage    float64\n",
       "dtype: object"
      ]
     },
     "execution_count": 58,
     "metadata": {},
     "output_type": "execute_result"
    }
   ],
   "source": [
    "wage_df.dtypes"
   ]
  },
  {
   "cell_type": "markdown",
   "id": "65524065",
   "metadata": {},
   "source": [
    "Generate three plots showing the average hourly wage against the three independent variables."
   ]
  },
  {
   "cell_type": "markdown",
   "id": "e629ff36",
   "metadata": {},
   "source": [
    "Preparing to plot the position/wage"
   ]
  },
  {
   "cell_type": "code",
   "execution_count": 72,
   "id": "162076cf",
   "metadata": {},
   "outputs": [
    {
     "data": {
      "text/plain": [
       "position     0.000000\n",
       "hourwage    20.676382\n",
       "dtype: float64"
      ]
     },
     "execution_count": 72,
     "metadata": {},
     "output_type": "execute_result"
    }
   ],
   "source": [
    "features_of_interest = pd.DataFrame({'position': wage_df['position'], \n",
    "                                   'hourwage': wage_df['hourwage']})\n",
    "hospital = features_of_interest.loc[features_of_interest['position'] == 0]\n",
    "office = features_of_interest.loc[features_of_interest['position'] == 1]\n",
    "\n",
    "hospital = hospital.mean()\n",
    "office = office.mean()\n"
   ]
  },
  {
   "cell_type": "markdown",
   "id": "901e8881",
   "metadata": {},
   "source": [
    "Preparing to plot age group /wage"
   ]
  },
  {
   "cell_type": "code",
   "execution_count": 80,
   "id": "202821ca",
   "metadata": {},
   "outputs": [],
   "source": [
    "thirty = wage_df['hourwage'].loc[wage_df['agerange'] == 1]\n",
    "fourty_five = wage_df['hourwage'].loc[wage_df['agerange'] == 2]\n",
    "sixty_five = wage_df['hourwage'].loc[wage_df['agerange'] == 3]\n",
    "thirty = thirty.mean()\n",
    "fourty_five = fourty_five.mean()\n",
    "sixty_five = sixty_five.mean()"
   ]
  },
  {
   "cell_type": "markdown",
   "id": "f6e76ea7",
   "metadata": {},
   "source": [
    "Preparing to plot Years/wage"
   ]
  },
  {
   "cell_type": "code",
   "execution_count": 83,
   "id": "157543a8",
   "metadata": {},
   "outputs": [],
   "source": [
    "five = wage_df['hourwage'].loc[wage_df['yrsscale'] == 1].mean()\n",
    "six = wage_df['hourwage'].loc[wage_df['yrsscale'] == 2].mean()\n",
    "eleven = wage_df['hourwage'].loc[wage_df['yrsscale'] == 3].mean()\n",
    "sixteen = wage_df['hourwage'].loc[wage_df['yrsscale'] == 4].mean()\n",
    "twenty_one = wage_df['hourwage'].loc[wage_df['yrsscale'] == 5].mean()\n",
    "thirty_six = wage_df['hourwage'].loc[wage_df['yrsscale'] == 6].mean()"
   ]
  },
  {
   "cell_type": "code",
   "execution_count": 115,
   "id": "aceb7021",
   "metadata": {},
   "outputs": [
    {
     "data": {
      "text/plain": [
       "Text(0.5, 1.0, 'Average wage by years worked')"
      ]
     },
     "execution_count": 115,
     "metadata": {},
     "output_type": "execute_result"
    },
    {
     "data": {
      "image/png": "[encoded data removed]",
      "text/plain": [
       "<Figure size 1000x1000 with 3 Axes>"
      ]
     },
     "metadata": {},
     "output_type": "display_data"
    }
   ],
   "source": [
    "fig, ax = plt.subplots(3, figsize = (10,10))\n",
    "\n",
    "x = [\"Hospital\", \"Office\"]\n",
    "y = [hospital['hourwage'], office['hourwage']]\n",
    "\n",
    "x1 = [\"18-30\", \"31-45\", \"46-65\"]\n",
    "y1 = [thirty, fourty_five, sixty_five]\n",
    "\n",
    "x2 = [\"5 or less\", \"6-10\", \"11-15\", \"16-20\", \"21-35\", \"36 or more\"]\n",
    "y2 = [five, six, eleven, sixteen, twenty_one, thirty_six]\n",
    "\n",
    "ax[0].bar(x, y)\n",
    "ax[0].set_title(\"Average wage by position\")\n",
    "ax[1].bar(x1,y1)\n",
    "ax[1].set_title(\"Average wage by age group\")\n",
    "ax[2].bar(x2,y2)\n",
    "ax[2].set_title(\"Average wage by years worked\")"
   ]
  },
  {
   "cell_type": "markdown",
   "id": "d05e011e",
   "metadata": {},
   "source": [
    "Next generate a training and test set."
   ]
  },
  {
   "cell_type": "code",
   "execution_count": 135,
   "id": "88ed1337",
   "metadata": {},
   "outputs": [
    {
     "data": {
      "text/plain": [
       "array([[0, 1, 2],\n",
       "       [0, 1, 3],\n",
       "       [1, 1, 1]], dtype=int64)"
      ]
     },
     "execution_count": 135,
     "metadata": {},
     "output_type": "execute_result"
    }
   ],
   "source": [
    "X = wage_df.iloc[:,[0,1,2]].values\n",
    "X[1:4]"
   ]
  },
  {
   "cell_type": "code",
   "execution_count": 134,
   "id": "7e4d82ae",
   "metadata": {},
   "outputs": [
    {
     "data": {
      "text/plain": [
       "(2911, 3)"
      ]
     },
     "execution_count": 134,
     "metadata": {},
     "output_type": "execute_result"
    }
   ],
   "source": [
    "X.shape"
   ]
  },
  {
   "cell_type": "code",
   "execution_count": 136,
   "id": "c62ae463",
   "metadata": {},
   "outputs": [],
   "source": [
    "Y = wage_df.iloc[:, 3].values"
   ]
  },
  {
   "cell_type": "code",
   "execution_count": 137,
   "id": "1e118040",
   "metadata": {},
   "outputs": [
    {
     "data": {
      "text/plain": [
       "(2911,)"
      ]
     },
     "execution_count": 137,
     "metadata": {},
     "output_type": "execute_result"
    }
   ],
   "source": [
    "Y.shape"
   ]
  },
  {
   "cell_type": "code",
   "execution_count": 138,
   "id": "a2a8c76d",
   "metadata": {},
   "outputs": [
    {
     "data": {
      "text/plain": [
       "array([[13.73623405],\n",
       "       [16.44073097],\n",
       "       [21.38910772],\n",
       "       ...,\n",
       "       [18.45023401],\n",
       "       [19.1444598 ],\n",
       "       [13.63846599]])"
      ]
     },
     "execution_count": 138,
     "metadata": {},
     "output_type": "execute_result"
    }
   ],
   "source": [
    "Y.reshape(-1,1)"
   ]
  },
  {
   "cell_type": "code",
   "execution_count": 139,
   "id": "957eb91a",
   "metadata": {},
   "outputs": [
    {
     "data": {
      "text/plain": [
       "array([[1, 1, 2],\n",
       "       [0, 1, 2],\n",
       "       [0, 1, 3],\n",
       "       ...,\n",
       "       [1, 3, 4],\n",
       "       [0, 3, 4],\n",
       "       [0, 3, 3]], dtype=int64)"
      ]
     },
     "execution_count": 139,
     "metadata": {},
     "output_type": "execute_result"
    }
   ],
   "source": [
    "X.reshape(-1,3)"
   ]
  },
  {
   "cell_type": "markdown",
   "id": "598ca486",
   "metadata": {},
   "source": [
    "Now X is a dataframe with all the independent variables. Y is a single column dataframe with the dependent varaible. Both variables are reshaped as per the example. "
   ]
  },
  {
   "cell_type": "code",
   "execution_count": 140,
   "id": "49edc563",
   "metadata": {},
   "outputs": [
    {
     "data": {
      "text/plain": [
       "LinearRegression()"
      ]
     },
     "execution_count": 140,
     "metadata": {},
     "output_type": "execute_result"
    }
   ],
   "source": [
    "wage_model = LinearRegression()\n",
    "wage_model.fit(X,Y)"
   ]
  },
  {
   "cell_type": "code",
   "execution_count": 141,
   "id": "0152760c",
   "metadata": {},
   "outputs": [
    {
     "name": "stdout",
     "output_type": "stream",
     "text": [
      "Intercept: \n",
      " 18.261630959472033\n",
      "Coefficients: \n",
      " [-2.0197037  -0.22575442  0.82398308]\n"
     ]
    }
   ],
   "source": [
    "print(\"Intercept: \\n\", wage_model.intercept_)\n",
    "print(\"Coefficients: \\n\", wage_model.coef_)"
   ]
  },
  {
   "cell_type": "code",
   "execution_count": 149,
   "id": "eab9fedc",
   "metadata": {},
   "outputs": [
    {
     "name": "stdout",
     "output_type": "stream",
     "text": [
      "Training Data:  (2328, 3) (2328,)\n",
      "Test Data:  (583, 3) (583,)\n"
     ]
    }
   ],
   "source": [
    "x_train, x_test, y_train, y_test = train_test_split(X, Y, test_size = 0.2, shuffle = True)\n",
    "\n",
    "print(\"Training Data: \", x_train.shape, y_train.shape)\n",
    "print(\"Test Data: \", x_test.shape, y_test.shape)\n"
   ]
  },
  {
   "cell_type": "markdown",
   "id": "c2d5c466",
   "metadata": {},
   "source": [
    "Check for biases in the split. "
   ]
  },
  {
   "cell_type": "code",
   "execution_count": 153,
   "id": "3f871ba7",
   "metadata": {},
   "outputs": [
    {
     "name": "stdout",
     "output_type": "stream",
     "text": [
      "y_train [20.09097926 20.20805464 24.66867405 17.61873894 14.81133367 20.06018321\n",
      " 16.11193292 17.50109766 25.07744632 10.45742844 16.58277649 20.82149233\n",
      " 15.13698165 18.1789228  14.27995176 26.53621163 25.32079789 24.60343385\n",
      " 24.41719355 18.59596247 10.88014473 18.62381566 16.58520619 21.21198817\n",
      " 24.49079094]\n"
     ]
    }
   ],
   "source": [
    "print(\"y_train {}\".format(y_train[0:25]))"
   ]
  },
  {
   "cell_type": "code",
   "execution_count": 154,
   "id": "c9167842",
   "metadata": {},
   "outputs": [
    {
     "name": "stdout",
     "output_type": "stream",
     "text": [
      "y_test [20.14179349 13.72941582 24.02723214 22.11231629 21.12750639 24.69651224\n",
      " 20.88365456 16.8804667  23.48868031 21.16165624 20.73847125 16.13048147\n",
      " 18.82925551 17.49744763 21.98639061 23.16073251 18.68899044 18.64246097\n",
      " 17.11971415 22.30143219 18.37646063 25.30229431 15.72459976 16.21122515\n",
      " 24.38088461]\n"
     ]
    }
   ],
   "source": [
    "print(\"y_test {}\".format(y_test[0:25]))"
   ]
  },
  {
   "cell_type": "markdown",
   "id": "0a9737ee",
   "metadata": {},
   "source": [
    "Generate a multiple linear regression model using the training set, use all the variables."
   ]
  },
  {
   "cell_type": "code",
   "execution_count": 155,
   "id": "e43bb7b6",
   "metadata": {},
   "outputs": [],
   "source": [
    "model = LinearRegression()\n",
    "model = model.fit(x_train, y_train)\n",
    "predictions = model.predict(x_test)"
   ]
  },
  {
   "cell_type": "code",
   "execution_count": 156,
   "id": "054552c1",
   "metadata": {},
   "outputs": [
    {
     "data": {
      "text/plain": [
       "array([17.72632434, 21.19524514, 21.19524514, 21.19524514, 19.17170397])"
      ]
     },
     "execution_count": 156,
     "metadata": {},
     "output_type": "execute_result"
    }
   ],
   "source": [
    "predictions[0:5]"
   ]
  },
  {
   "cell_type": "markdown",
   "id": "ccaa07fc",
   "metadata": {},
   "source": [
    "These look reasonable when looking at y test and y train values.\n",
    "\n",
    "Finally, plot an errorbar graph and calculate the r^2 value."
   ]
  },
  {
   "cell_type": "code",
   "execution_count": 158,
   "id": "6c1a6022",
   "metadata": {},
   "outputs": [
    {
     "data": {
      "text/plain": [
       "<ErrorbarContainer object of 3 artists>"
      ]
     },
     "execution_count": 158,
     "metadata": {},
     "output_type": "execute_result"
    },
    {
     "data": {
      "image/png": "[encoded data removed]",
      "text/plain": [
       "<Figure size 640x480 with 1 Axes>"
      ]
     },
     "metadata": {},
     "output_type": "display_data"
    }
   ],
   "source": [
    "plt.errorbar(range(1,584), y_test, yerr = (y_test - predictions), fmt = 'k', ecolor = 'r')"
   ]
  },
  {
   "cell_type": "code",
   "execution_count": 167,
   "id": "fbdd78a9",
   "metadata": {},
   "outputs": [
    {
     "name": "stdout",
     "output_type": "stream",
     "text": [
      "R² Score:  0.09994330434273968\n"
     ]
    }
   ],
   "source": [
    "print(f\"R\\N{SUPERSCRIPT TWO} Score: \", model.score(x_test,y_test))\n"
   ]
  },
  {
   "cell_type": "code",
   "execution_count": 168,
   "id": "8517b547",
   "metadata": {},
   "outputs": [
    {
     "name": "stdout",
     "output_type": "stream",
     "text": [
      "Coefficients: \n",
      " [-2.02354117 -0.24205245  0.84371604]\n"
     ]
    }
   ],
   "source": [
    "print(\"Coefficients: \\n\", model.coef_)"
   ]
  },
  {
   "cell_type": "markdown",
   "id": "7e62c379",
   "metadata": {},
   "source": [
    "This suggests that the first variable, position, is heavily skewed to getting paid more in the hospital (as negative coefficient means 1 *coef is smaller than 0*coef).\n",
    "Also, the age range, salaries go slightly down as you get older. \n",
    "The main cause for getting a higher salary is how long you have been working at the company.\n",
    "    However, considering the r\\^2 score is so low, this is likely unreliable. "
   ]
  }
 ],
 "metadata": {
  "kernelspec": {
   "display_name": "Python 3 (ipykernel)",
   "language": "python",
   "name": "python3"
  },
  "language_info": {
   "codemirror_mode": {
    "name": "ipython",
    "version": 3
   },
   "file_extension": ".py",
   "mimetype": "text/x-python",
   "name": "python",
   "nbconvert_exporter": "python",
   "pygments_lexer": "ipython3",
   "version": "3.9.13"
  }
 },
 "nbformat": 4,
 "nbformat_minor": 5
}
