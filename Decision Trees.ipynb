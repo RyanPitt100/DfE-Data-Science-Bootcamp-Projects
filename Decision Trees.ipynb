{
 "cells": [
  {
   "cell_type": "markdown",
   "id": "9f8ec848",
   "metadata": {},
   "source": [
    "# Decision Trees"
   ]
  },
  {
   "cell_type": "code",
   "execution_count": 26,
   "id": "e96047cd",
   "metadata": {},
   "outputs": [],
   "source": [
    "# importing libraries\n",
    "import pandas as pd\n",
    "\n",
    "from sklearn.datasets import make_classification\n",
    "from sklearn.model_selection import train_test_split\n",
    "from sklearn.metrics import accuracy_score\n",
    "\n",
    "from sklearn.tree import DecisionTreeClassifier\n",
    "from sklearn.ensemble import BaggingClassifier\n",
    "from sklearn.ensemble import RandomForestClassifier\n",
    "from sklearn.ensemble import AdaBoostClassifier\n",
    "from sklearn.model_selection import GridSearchCV\n",
    "from sklearn.metrics import classification_report, confusion_matrix, accuracy_score\n",
    "\n",
    "import matplotlib.pyplot as plt\n",
    "%matplotlib inline\n",
    "\n",
    "#from sklearn.metrics import confusion_matrix, f1_score, precision_score, recall_score\n",
    "\n",
    "# for visualisation\n",
    "import matplotlib.pyplot as plt\n",
    "from sklearn.metrics import confusion_matrix"
   ]
  },
  {
   "cell_type": "code",
   "execution_count": 27,
   "id": "6a94e9d2",
   "metadata": {},
   "outputs": [
    {
     "data": {
      "text/html": [
       "<div>\n",
       "<style scoped>\n",
       "    .dataframe tbody tr th:only-of-type {\n",
       "        vertical-align: middle;\n",
       "    }\n",
       "\n",
       "    .dataframe tbody tr th {\n",
       "        vertical-align: top;\n",
       "    }\n",
       "\n",
       "    .dataframe thead th {\n",
       "        text-align: right;\n",
       "    }\n",
       "</style>\n",
       "<table border=\"1\" class=\"dataframe\">\n",
       "  <thead>\n",
       "    <tr style=\"text-align: right;\">\n",
       "      <th></th>\n",
       "      <th>PassengerId</th>\n",
       "      <th>Survived</th>\n",
       "      <th>Pclass</th>\n",
       "      <th>Name</th>\n",
       "      <th>Sex</th>\n",
       "      <th>Age</th>\n",
       "      <th>SibSp</th>\n",
       "      <th>Parch</th>\n",
       "      <th>Ticket</th>\n",
       "      <th>Fare</th>\n",
       "      <th>Cabin</th>\n",
       "      <th>Embarked</th>\n",
       "    </tr>\n",
       "  </thead>\n",
       "  <tbody>\n",
       "    <tr>\n",
       "      <th>0</th>\n",
       "      <td>1</td>\n",
       "      <td>0</td>\n",
       "      <td>3</td>\n",
       "      <td>Braund, Mr. Owen Harris</td>\n",
       "      <td>male</td>\n",
       "      <td>22.0</td>\n",
       "      <td>1</td>\n",
       "      <td>0</td>\n",
       "      <td>A/5 21171</td>\n",
       "      <td>7.2500</td>\n",
       "      <td>NaN</td>\n",
       "      <td>S</td>\n",
       "    </tr>\n",
       "    <tr>\n",
       "      <th>1</th>\n",
       "      <td>2</td>\n",
       "      <td>1</td>\n",
       "      <td>1</td>\n",
       "      <td>Cumings, Mrs. John Bradley (Florence Briggs Th...</td>\n",
       "      <td>female</td>\n",
       "      <td>38.0</td>\n",
       "      <td>1</td>\n",
       "      <td>0</td>\n",
       "      <td>PC 17599</td>\n",
       "      <td>71.2833</td>\n",
       "      <td>C85</td>\n",
       "      <td>C</td>\n",
       "    </tr>\n",
       "    <tr>\n",
       "      <th>2</th>\n",
       "      <td>3</td>\n",
       "      <td>1</td>\n",
       "      <td>3</td>\n",
       "      <td>Heikkinen, Miss. Laina</td>\n",
       "      <td>female</td>\n",
       "      <td>26.0</td>\n",
       "      <td>0</td>\n",
       "      <td>0</td>\n",
       "      <td>STON/O2. 3101282</td>\n",
       "      <td>7.9250</td>\n",
       "      <td>NaN</td>\n",
       "      <td>S</td>\n",
       "    </tr>\n",
       "    <tr>\n",
       "      <th>3</th>\n",
       "      <td>4</td>\n",
       "      <td>1</td>\n",
       "      <td>1</td>\n",
       "      <td>Futrelle, Mrs. Jacques Heath (Lily May Peel)</td>\n",
       "      <td>female</td>\n",
       "      <td>35.0</td>\n",
       "      <td>1</td>\n",
       "      <td>0</td>\n",
       "      <td>113803</td>\n",
       "      <td>53.1000</td>\n",
       "      <td>C123</td>\n",
       "      <td>S</td>\n",
       "    </tr>\n",
       "    <tr>\n",
       "      <th>4</th>\n",
       "      <td>5</td>\n",
       "      <td>0</td>\n",
       "      <td>3</td>\n",
       "      <td>Allen, Mr. William Henry</td>\n",
       "      <td>male</td>\n",
       "      <td>35.0</td>\n",
       "      <td>0</td>\n",
       "      <td>0</td>\n",
       "      <td>373450</td>\n",
       "      <td>8.0500</td>\n",
       "      <td>NaN</td>\n",
       "      <td>S</td>\n",
       "    </tr>\n",
       "  </tbody>\n",
       "</table>\n",
       "</div>"
      ],
      "text/plain": [
       "   PassengerId  Survived  Pclass  \\\n",
       "0            1         0       3   \n",
       "1            2         1       1   \n",
       "2            3         1       3   \n",
       "3            4         1       1   \n",
       "4            5         0       3   \n",
       "\n",
       "                                                Name     Sex   Age  SibSp  \\\n",
       "0                            Braund, Mr. Owen Harris    male  22.0      1   \n",
       "1  Cumings, Mrs. John Bradley (Florence Briggs Th...  female  38.0      1   \n",
       "2                             Heikkinen, Miss. Laina  female  26.0      0   \n",
       "3       Futrelle, Mrs. Jacques Heath (Lily May Peel)  female  35.0      1   \n",
       "4                           Allen, Mr. William Henry    male  35.0      0   \n",
       "\n",
       "   Parch            Ticket     Fare Cabin Embarked  \n",
       "0      0         A/5 21171   7.2500   NaN        S  \n",
       "1      0          PC 17599  71.2833   C85        C  \n",
       "2      0  STON/O2. 3101282   7.9250   NaN        S  \n",
       "3      0            113803  53.1000  C123        S  \n",
       "4      0            373450   8.0500   NaN        S  "
      ]
     },
     "execution_count": 27,
     "metadata": {},
     "output_type": "execute_result"
    }
   ],
   "source": [
    "# importing the dataset\n",
    "titanic = pd.read_csv('Titanic.csv')\n",
    "titanic.head()"
   ]
  },
  {
   "cell_type": "code",
   "execution_count": 28,
   "id": "f2e4e47c",
   "metadata": {},
   "outputs": [],
   "source": [
    "titanic.dropna(inplace = True)"
   ]
  },
  {
   "cell_type": "code",
   "execution_count": 29,
   "id": "f5576759",
   "metadata": {},
   "outputs": [
    {
     "data": {
      "text/plain": [
       "PassengerId    0\n",
       "Survived       0\n",
       "Pclass         0\n",
       "Name           0\n",
       "Sex            0\n",
       "Age            0\n",
       "SibSp          0\n",
       "Parch          0\n",
       "Ticket         0\n",
       "Fare           0\n",
       "Cabin          0\n",
       "Embarked       0\n",
       "dtype: int64"
      ]
     },
     "execution_count": 29,
     "metadata": {},
     "output_type": "execute_result"
    }
   ],
   "source": [
    "titanic.isnull().sum()"
   ]
  },
  {
   "cell_type": "markdown",
   "id": "a51c6cbe",
   "metadata": {},
   "source": [
    "Change 'Sex' column to be binary 0 or 1 instead of string."
   ]
  },
  {
   "cell_type": "code",
   "execution_count": 30,
   "id": "07799cfb",
   "metadata": {},
   "outputs": [],
   "source": [
    "titanic['Sex'] = titanic['Sex'].replace('female', 0)\n",
    "titanic['Sex'] = titanic['Sex'].replace('male', 1)\n",
    "titanic['Sex'] = titanic['Sex'].astype('category')\n"
   ]
  },
  {
   "cell_type": "markdown",
   "id": "b506cdb0",
   "metadata": {},
   "source": [
    "We must also change the embarked column in the same way."
   ]
  },
  {
   "cell_type": "code",
   "execution_count": 31,
   "id": "f60f5e37",
   "metadata": {},
   "outputs": [
    {
     "data": {
      "text/plain": [
       "array(['C', 'S', 'Q'], dtype=object)"
      ]
     },
     "execution_count": 31,
     "metadata": {},
     "output_type": "execute_result"
    }
   ],
   "source": [
    "titanic['Embarked'].unique()"
   ]
  },
  {
   "cell_type": "code",
   "execution_count": 32,
   "id": "afc25ab7",
   "metadata": {},
   "outputs": [],
   "source": [
    "titanic['Embarked'] = titanic['Embarked'].replace('C', 0)\n",
    "titanic['Embarked'] = titanic['Embarked'].replace('S', 1)\n",
    "titanic['Embarked'] = titanic['Embarked'].replace('Q', 2)\n",
    "titanic['Embarked'] = titanic['Embarked'].astype('category')"
   ]
  },
  {
   "cell_type": "code",
   "execution_count": 33,
   "id": "ea3add81",
   "metadata": {},
   "outputs": [
    {
     "data": {
      "text/plain": [
       "PassengerId       int64\n",
       "Survived          int64\n",
       "Pclass            int64\n",
       "Name             object\n",
       "Sex            category\n",
       "Age             float64\n",
       "SibSp             int64\n",
       "Parch             int64\n",
       "Ticket           object\n",
       "Fare            float64\n",
       "Cabin            object\n",
       "Embarked       category\n",
       "dtype: object"
      ]
     },
     "execution_count": 33,
     "metadata": {},
     "output_type": "execute_result"
    }
   ],
   "source": [
    "titanic.dtypes"
   ]
  },
  {
   "cell_type": "code",
   "execution_count": 34,
   "id": "63279b3e",
   "metadata": {},
   "outputs": [
    {
     "data": {
      "text/plain": [
       "(183, 7)"
      ]
     },
     "execution_count": 34,
     "metadata": {},
     "output_type": "execute_result"
    }
   ],
   "source": [
    "X = titanic.iloc[:, [2,4,5,6,7,9,11]]\n",
    "X.shape"
   ]
  },
  {
   "cell_type": "code",
   "execution_count": 35,
   "id": "563a0e67",
   "metadata": {},
   "outputs": [
    {
     "data": {
      "text/html": [
       "<div>\n",
       "<style scoped>\n",
       "    .dataframe tbody tr th:only-of-type {\n",
       "        vertical-align: middle;\n",
       "    }\n",
       "\n",
       "    .dataframe tbody tr th {\n",
       "        vertical-align: top;\n",
       "    }\n",
       "\n",
       "    .dataframe thead th {\n",
       "        text-align: right;\n",
       "    }\n",
       "</style>\n",
       "<table border=\"1\" class=\"dataframe\">\n",
       "  <thead>\n",
       "    <tr style=\"text-align: right;\">\n",
       "      <th></th>\n",
       "      <th>Pclass</th>\n",
       "      <th>Sex</th>\n",
       "      <th>Age</th>\n",
       "      <th>SibSp</th>\n",
       "      <th>Parch</th>\n",
       "      <th>Fare</th>\n",
       "      <th>Embarked</th>\n",
       "    </tr>\n",
       "  </thead>\n",
       "  <tbody>\n",
       "    <tr>\n",
       "      <th>1</th>\n",
       "      <td>1</td>\n",
       "      <td>0</td>\n",
       "      <td>38.0</td>\n",
       "      <td>1</td>\n",
       "      <td>0</td>\n",
       "      <td>71.2833</td>\n",
       "      <td>0</td>\n",
       "    </tr>\n",
       "    <tr>\n",
       "      <th>3</th>\n",
       "      <td>1</td>\n",
       "      <td>0</td>\n",
       "      <td>35.0</td>\n",
       "      <td>1</td>\n",
       "      <td>0</td>\n",
       "      <td>53.1000</td>\n",
       "      <td>1</td>\n",
       "    </tr>\n",
       "    <tr>\n",
       "      <th>6</th>\n",
       "      <td>1</td>\n",
       "      <td>1</td>\n",
       "      <td>54.0</td>\n",
       "      <td>0</td>\n",
       "      <td>0</td>\n",
       "      <td>51.8625</td>\n",
       "      <td>1</td>\n",
       "    </tr>\n",
       "    <tr>\n",
       "      <th>10</th>\n",
       "      <td>3</td>\n",
       "      <td>0</td>\n",
       "      <td>4.0</td>\n",
       "      <td>1</td>\n",
       "      <td>1</td>\n",
       "      <td>16.7000</td>\n",
       "      <td>1</td>\n",
       "    </tr>\n",
       "    <tr>\n",
       "      <th>11</th>\n",
       "      <td>1</td>\n",
       "      <td>0</td>\n",
       "      <td>58.0</td>\n",
       "      <td>0</td>\n",
       "      <td>0</td>\n",
       "      <td>26.5500</td>\n",
       "      <td>1</td>\n",
       "    </tr>\n",
       "    <tr>\n",
       "      <th>...</th>\n",
       "      <td>...</td>\n",
       "      <td>...</td>\n",
       "      <td>...</td>\n",
       "      <td>...</td>\n",
       "      <td>...</td>\n",
       "      <td>...</td>\n",
       "      <td>...</td>\n",
       "    </tr>\n",
       "    <tr>\n",
       "      <th>871</th>\n",
       "      <td>1</td>\n",
       "      <td>0</td>\n",
       "      <td>47.0</td>\n",
       "      <td>1</td>\n",
       "      <td>1</td>\n",
       "      <td>52.5542</td>\n",
       "      <td>1</td>\n",
       "    </tr>\n",
       "    <tr>\n",
       "      <th>872</th>\n",
       "      <td>1</td>\n",
       "      <td>1</td>\n",
       "      <td>33.0</td>\n",
       "      <td>0</td>\n",
       "      <td>0</td>\n",
       "      <td>5.0000</td>\n",
       "      <td>1</td>\n",
       "    </tr>\n",
       "    <tr>\n",
       "      <th>879</th>\n",
       "      <td>1</td>\n",
       "      <td>0</td>\n",
       "      <td>56.0</td>\n",
       "      <td>0</td>\n",
       "      <td>1</td>\n",
       "      <td>83.1583</td>\n",
       "      <td>0</td>\n",
       "    </tr>\n",
       "    <tr>\n",
       "      <th>887</th>\n",
       "      <td>1</td>\n",
       "      <td>0</td>\n",
       "      <td>19.0</td>\n",
       "      <td>0</td>\n",
       "      <td>0</td>\n",
       "      <td>30.0000</td>\n",
       "      <td>1</td>\n",
       "    </tr>\n",
       "    <tr>\n",
       "      <th>889</th>\n",
       "      <td>1</td>\n",
       "      <td>1</td>\n",
       "      <td>26.0</td>\n",
       "      <td>0</td>\n",
       "      <td>0</td>\n",
       "      <td>30.0000</td>\n",
       "      <td>0</td>\n",
       "    </tr>\n",
       "  </tbody>\n",
       "</table>\n",
       "<p>183 rows × 7 columns</p>\n",
       "</div>"
      ],
      "text/plain": [
       "     Pclass Sex   Age  SibSp  Parch     Fare Embarked\n",
       "1         1   0  38.0      1      0  71.2833        0\n",
       "3         1   0  35.0      1      0  53.1000        1\n",
       "6         1   1  54.0      0      0  51.8625        1\n",
       "10        3   0   4.0      1      1  16.7000        1\n",
       "11        1   0  58.0      0      0  26.5500        1\n",
       "..      ...  ..   ...    ...    ...      ...      ...\n",
       "871       1   0  47.0      1      1  52.5542        1\n",
       "872       1   1  33.0      0      0   5.0000        1\n",
       "879       1   0  56.0      0      1  83.1583        0\n",
       "887       1   0  19.0      0      0  30.0000        1\n",
       "889       1   1  26.0      0      0  30.0000        0\n",
       "\n",
       "[183 rows x 7 columns]"
      ]
     },
     "execution_count": 35,
     "metadata": {},
     "output_type": "execute_result"
    }
   ],
   "source": [
    "X"
   ]
  },
  {
   "cell_type": "code",
   "execution_count": 36,
   "id": "98c12b06",
   "metadata": {},
   "outputs": [
    {
     "data": {
      "text/plain": [
       "(183,)"
      ]
     },
     "execution_count": 36,
     "metadata": {},
     "output_type": "execute_result"
    }
   ],
   "source": [
    "y = titanic.iloc[:, 1]\n",
    "y.shape"
   ]
  },
  {
   "cell_type": "code",
   "execution_count": 37,
   "id": "2f357750",
   "metadata": {},
   "outputs": [
    {
     "data": {
      "text/plain": [
       "1      1\n",
       "3      1\n",
       "6      0\n",
       "10     1\n",
       "11     1\n",
       "      ..\n",
       "871    1\n",
       "872    0\n",
       "879    1\n",
       "887    1\n",
       "889    1\n",
       "Name: Survived, Length: 183, dtype: int64"
      ]
     },
     "execution_count": 37,
     "metadata": {},
     "output_type": "execute_result"
    }
   ],
   "source": [
    "y"
   ]
  },
  {
   "cell_type": "markdown",
   "id": "feaaefde",
   "metadata": {},
   "source": [
    "Split into training, test and validation sets."
   ]
  },
  {
   "cell_type": "code",
   "execution_count": 38,
   "id": "b9984178",
   "metadata": {},
   "outputs": [],
   "source": [
    "X_train, X_test, y_train, y_test = train_test_split(X,y, train_size=0.8, shuffle = True)\n",
    "# this creates our training set, and keeps the remaining 20% in one set to be used as both test and validation.\n"
   ]
  },
  {
   "cell_type": "markdown",
   "id": "ecd3738d",
   "metadata": {},
   "source": [
    "Now train a base and bagged model. "
   ]
  },
  {
   "cell_type": "code",
   "execution_count": 39,
   "id": "3dd33bd0",
   "metadata": {},
   "outputs": [
    {
     "name": "stdout",
     "output_type": "stream",
     "text": [
      "Accuracy base: 0.6756756756756757\n",
      "Accuracy ensemble: 0.7027027027027027\n"
     ]
    }
   ],
   "source": [
    "model = DecisionTreeClassifier(max_depth = 6) \n",
    "'''It is shown later in the exercise that this is the optimal depth \n",
    "for this model. I have left this above that part in order to make things easier \n",
    "for you to mark as it follows the order of the task more this way. '''\n",
    "ensemble = BaggingClassifier(base_estimator = model, n_estimators = 100, random_state = 7)\n",
    "\n",
    "\n",
    "model.fit(X_train,y_train)\n",
    "ensemble.fit(X_train,y_train)\n",
    "\n",
    "print(\"Accuracy base:\",model.score(X_test, y_test))\n",
    "print(\"Accuracy ensemble:\",ensemble.score(X_test, y_test))"
   ]
  },
  {
   "cell_type": "markdown",
   "id": "ec0cc455",
   "metadata": {},
   "source": [
    "Next create a random forest."
   ]
  },
  {
   "cell_type": "code",
   "execution_count": 40,
   "id": "0303fbdf",
   "metadata": {},
   "outputs": [
    {
     "name": "stdout",
     "output_type": "stream",
     "text": [
      "Accuracy forest: 0.7297297297297297\n"
     ]
    }
   ],
   "source": [
    "forest = RandomForestClassifier(n_estimators=80, random_state=7)\n",
    "forest.fit(X_train, y_train)\n",
    "\n",
    "print(\"Accuracy forest:\", forest.score(X_test, y_test))"
   ]
  },
  {
   "cell_type": "code",
   "execution_count": 41,
   "id": "a346f4c1",
   "metadata": {},
   "outputs": [
    {
     "name": "stdout",
     "output_type": "stream",
     "text": [
      "Accuracy boosted tree: 0.7027027027027027\n"
     ]
    }
   ],
   "source": [
    "boosted_tree = AdaBoostClassifier(n_estimators = 80, random_state = 7)\n",
    "\n",
    "boosted_tree.fit(X_train, y_train)\n",
    "\n",
    "print(\"Accuracy boosted tree:\", boosted_tree.score(X_test, y_test))"
   ]
  },
  {
   "cell_type": "markdown",
   "id": "d75abf33",
   "metadata": {},
   "source": [
    "Now using the forest model, determine which factor was the most influencial in deciding if a passengers survived the titanic tragedy or not."
   ]
  },
  {
   "cell_type": "code",
   "execution_count": 42,
   "id": "634be1ba",
   "metadata": {},
   "outputs": [
    {
     "data": {
      "text/plain": [
       "5    0.309660\n",
       "2    0.302107\n",
       "1    0.228087\n",
       "4    0.047086\n",
       "3    0.044477\n",
       "6    0.036819\n",
       "0    0.031764\n",
       "dtype: float64"
      ]
     },
     "execution_count": 42,
     "metadata": {},
     "output_type": "execute_result"
    }
   ],
   "source": [
    "feature_imp = pd.Series(forest.feature_importances_).sort_values(ascending=False)\n",
    "feature_imp"
   ]
  },
  {
   "cell_type": "code",
   "execution_count": 43,
   "id": "f8aeb1dc",
   "metadata": {},
   "outputs": [
    {
     "data": {
      "text/plain": [
       "1      1\n",
       "3      1\n",
       "6      1\n",
       "10     3\n",
       "11     1\n",
       "      ..\n",
       "871    1\n",
       "872    1\n",
       "879    1\n",
       "887    1\n",
       "889    1\n",
       "Name: Pclass, Length: 183, dtype: int64"
      ]
     },
     "execution_count": 43,
     "metadata": {},
     "output_type": "execute_result"
    }
   ],
   "source": [
    "titanic.iloc[:, 2]"
   ]
  },
  {
   "cell_type": "markdown",
   "id": "23cc71d1",
   "metadata": {},
   "source": [
    "From feature_importances_ we can see the column at index 2 was the most influencial. and using iloc we can see that this is the passenger class. This makes sense from what we know logically about the accident. The richer passengers with the higher class tickets fared better than the working class passengers who were located deeper into the ship.\n",
    "\n",
    "\n",
    "## Pick one of the models, and tune it for n_estimators and max_depth. "
   ]
  },
  {
   "cell_type": "code",
   "execution_count": 61,
   "id": "87f8c2da",
   "metadata": {},
   "outputs": [
    {
     "data": {
      "image/png": "[encoded data removed]",
      "text/plain": [
       "<Figure size 750x350 with 2 Axes>"
      ]
     },
     "metadata": {},
     "output_type": "display_data"
    },
    {
     "name": "stdout",
     "output_type": "stream",
     "text": [
      " Best prediction for the random forest happens at max depth of 8. Now to repeat for the n_estimators.\n"
     ]
    }
   ],
   "source": [
    "depth_range = range(1, 20)\n",
    "training_scores = []\n",
    "test_scores = []\n",
    "for n in depth_range:\n",
    "    clf = RandomForestClassifier(max_depth = n, n_estimators = 100, random_state = 7)\n",
    "    clf.fit(X_train, y_train)\n",
    "    train_score = clf.score(X_train, y_train)\n",
    "    training_scores.append(train_score)\n",
    "    test_score = clf.score(X_test, y_test)\n",
    "    test_scores.append(test_score)\n",
    "    \n",
    "\n",
    "fig, axs = plt.subplots(2)\n",
    "axs[0].plot(depth_range, test_scores)\n",
    "plt.rcParams[\"figure.figsize\"] = [7.50, 3.50]\n",
    "plt.rcParams[\"figure.autolayout\"] = True\n",
    "ax = plt.GridSpec(2, 2)\n",
    "ax.update(wspace=0.5, hspace=0.5)\n",
    "plt.xlabel(\"Decision tree depth\")\n",
    "axs[0].xaxis.set_ticks(depth_range)\n",
    "fig.suptitle('Training/Test set accuracy against decision tree depth for titanic dataset with a random forest.')\n",
    "plt.subplots_adjust(bottom=0.5, right=0.5, top=0.9)\n",
    "axs[1].plot(depth_range, training_scores)\n",
    "axs[1].xaxis.set_ticks(depth_range)\n",
    "axs[0].set_ylabel('Accuracy Test', rotation=45, fontsize = 11, labelpad=30)\n",
    "axs[1].set_ylabel('Accuracy Training', rotation = 45, fontsize = 11, labelpad = 40)\n",
    "plt.show()\n",
    "\n",
    "max_value = max(test_scores)\n",
    "index = test_scores.index(max_value)\n",
    "print(f\" Best prediction for the random forest happens at max depth of {index + 1}. Now to repeat for the n_estimators.\")"
   ]
  },
  {
   "cell_type": "code",
   "execution_count": 68,
   "id": "13b2e0fe",
   "metadata": {},
   "outputs": [
    {
     "data": {
      "image/png": "[encoded data removed]",
      "text/plain": [
       "<Figure size 750x350 with 2 Axes>"
      ]
     },
     "metadata": {},
     "output_type": "display_data"
    },
    {
     "name": "stdout",
     "output_type": "stream",
     "text": [
      " Best prediction for the random forest happens at max depth of 60. \n",
      "\n",
      "Classification report for Random Forest\n",
      "\n",
      "              precision    recall  f1-score   support\n",
      "\n",
      "           0       0.62      0.57      0.59        14\n",
      "           1       0.75      0.78      0.77        23\n",
      "\n",
      "    accuracy                           0.70        37\n",
      "   macro avg       0.68      0.68      0.68        37\n",
      "weighted avg       0.70      0.70      0.70        37\n",
      "\n",
      "Confusion matrix\n",
      "\n",
      "[[ 8  6]\n",
      " [ 5 18]]\n",
      "\n",
      "Accuracy score\n",
      "0.7027027027027027\n"
     ]
    }
   ],
   "source": [
    "n_estimators_range = range(10, 200, 10)\n",
    "training_scores = []\n",
    "test_scores = []\n",
    "for n in n_estimators_range:\n",
    "    clf = RandomForestClassifier(max_depth = index + 1, n_estimators = n , random_state = 7)\n",
    "    clf.fit(X_train, y_train)\n",
    "    train_score = clf.score(X_train, y_train)\n",
    "    training_scores.append(train_score)\n",
    "    test_score = clf.score(X_test, y_test)\n",
    "    test_scores.append(test_score)\n",
    "    \n",
    "\n",
    "fig, axs = plt.subplots(2)\n",
    "axs[0].plot(n_estimators_range, test_scores)\n",
    "plt.rcParams[\"figure.figsize\"] = [7.50, 3.50]\n",
    "plt.rcParams[\"figure.autolayout\"] = True\n",
    "ax = plt.GridSpec(2, 2)\n",
    "ax.update(wspace=0.5, hspace=0.5)\n",
    "plt.xlabel(\"Decision tree depth\")\n",
    "axs[0].xaxis.set_ticks(n_estimators_range)\n",
    "fig.suptitle('Training/Test set accuracy against decision tree depth for titanic dataset with a random forest.')\n",
    "plt.subplots_adjust(bottom=0.5, right=0.5, top=0.9)\n",
    "axs[1].plot(n_estimators_range, training_scores)\n",
    "axs[1].xaxis.set_ticks(n_estimators_range)\n",
    "axs[0].set_ylabel('Accuracy Test', rotation=45, fontsize = 11, labelpad=30)\n",
    "axs[1].set_ylabel('Accuracy Training', rotation = 45, fontsize = 11, labelpad = 40)\n",
    "plt.show()\n",
    "\n",
    "max_value = max(test_scores)\n",
    "estimators = test_scores.index(max_value)\n",
    "print(f\" Best prediction for the random forest happens at max depth of {n_estimators_range[estimators]}. \")\n",
    "\n",
    "\n",
    "#Evaluate the model\n",
    "print(\"\\nClassification report for Random Forest\\n\")\n",
    "print(classification_report(y_test, y_pred))\n",
    "print(\"Confusion matrix\\n\")\n",
    "print(confusion_matrix(y_test, y_pred))\n",
    "print(\"\\nAccuracy score\")\n",
    "print(accuracy_score(y_test, y_pred))"
   ]
  },
  {
   "cell_type": "markdown",
   "id": "3092af29",
   "metadata": {},
   "source": [
    "Now using these values I will refit all the models to see which performs best. "
   ]
  },
  {
   "cell_type": "code",
   "execution_count": 70,
   "id": "3aed7cf8",
   "metadata": {},
   "outputs": [
    {
     "name": "stdout",
     "output_type": "stream",
     "text": [
      "Accuracy base: 0.6216216216216216\n",
      "Accuracy ensemble: 0.7027027027027027\n",
      "Accuracy random forest: 0.7027027027027027\n",
      "Accuracy boosted forest: 0.7027027027027027\n"
     ]
    }
   ],
   "source": [
    "model = DecisionTreeClassifier(max_depth = index + 1) \n",
    "\n",
    "ensemble = BaggingClassifier(base_estimator = model, n_estimators = rf_best.n_estimators, random_state = 7)\n",
    "\n",
    "\n",
    "model.fit(X_train,y_train)\n",
    "ensemble.fit(X_train,y_train)\n",
    "forest = RandomForestClassifier(n_estimators=rf_best.n_estimators, random_state=7)\n",
    "forest.fit(X_train, y_train)\n",
    "\n",
    "boosted_tree = AdaBoostClassifier(n_estimators = rf_best.n_estimators, random_state = 7)\n",
    "boosted_tree.fit(X_train, y_train)\n",
    "\n",
    "print(\"Accuracy base:\",model.score(X_test, y_test))\n",
    "print(\"Accuracy ensemble:\",ensemble.score(X_test, y_test))\n",
    "print(\"Accuracy random forest:\", forest.score(X_test, y_test))\n",
    "print(\"Accuracy boosted forest:\", boosted_tree.score(X_test, y_test))"
   ]
  },
  {
   "cell_type": "code",
   "execution_count": null,
   "id": "a3c85060",
   "metadata": {},
   "outputs": [],
   "source": []
  }
 ],
 "metadata": {
  "kernelspec": {
   "display_name": "Python 3 (ipykernel)",
   "language": "python",
   "name": "python3"
  },
  "language_info": {
   "codemirror_mode": {
    "name": "ipython",
    "version": 3
   },
   "file_extension": ".py",
   "mimetype": "text/x-python",
   "name": "python",
   "nbconvert_exporter": "python",
   "pygments_lexer": "ipython3",
   "version": "3.9.13"
  }
 },
 "nbformat": 4,
 "nbformat_minor": 5
}
